{
 "cells": [
  {
   "cell_type": "code",
   "execution_count": 33,
   "id": "3b9de8d8",
   "metadata": {},
   "outputs": [],
   "source": [
    "import re\n",
    "import os\n",
    "import sqlite3\n",
    "from pathlib import Path\n",
    "import hunparl as hp\n",
    "\n",
    "from datetime import datetime\n",
    "\n",
    "in_dir = Path(\"/home/xn/Script/Streamlit/text\")\n",
    "\n",
    "con = sqlite3.connect(in_dir/\"ogyn.db\")\n",
    "cur = con.cursor()\n",
    "cur.execute(\"\"\"DROP TABLE IF EXISTS ogyn\"\"\")\n",
    "\n",
    "cur.execute(\"\"\"CREATE TABLE ogyn(\n",
    "            id INTEGER NOT NULL PRIMARY KEY,\n",
    "            date TEXT,\n",
    "            name TEXT,\n",
    "            full_text TEXT)\n",
    "            \"\"\")\n",
    "con.commit()"
   ]
  },
  {
   "cell_type": "code",
   "execution_count": 34,
   "id": "27e76349",
   "metadata": {},
   "outputs": [],
   "source": [
    "date_dict = {\"január\":1, \"február\":2, \"március\":3, \n",
    "             \"április\":4,\"május\":5,\"június\":6,\n",
    "             \"július\":7,\"augusztus\":8,\"szeptember\":9,\n",
    "             \"október\":10,\"november\":11,\"december\":12}"
   ]
  },
  {
   "cell_type": "code",
   "execution_count": 35,
   "id": "3dfb1689",
   "metadata": {},
   "outputs": [
    {
     "name": "stdout",
     "output_type": "stream",
     "text": [
      "Országgyűlési Napló 166.szám.txt\n",
      "Országgyűlési Napló 174.szám.txt\n",
      "Országgyűlési Napló 165.szám.txt\n",
      "Országgyűlési Napló 164.szám.txt\n",
      "Országgyűlési Napló 167.szám.txt\n",
      "Országgyűlési Napló 168.szám.txt\n",
      "Országgyűlési Napló 177.szám.txt\n",
      "Országgyűlési Napló 169.szám.txt\n",
      "Országgyűlési Napló 176.szám.txt\n",
      "Országgyűlési Napló 175.szám.txt\n",
      "Országgyűlési Napló 172.szám.txt\n",
      "Országgyűlési Napló 170.szám.txt\n",
      "Országgyűlési Napló 178.szám.txt\n",
      "Országgyűlési Napló 171.szám.txt\n",
      "Országgyűlési Napló 162.szám.txt\n",
      "Országgyűlési Napló 163.szám.txt\n",
      "Országgyűlési Napló 173.szám.txt\n"
     ]
    }
   ],
   "source": [
    "for file in os.listdir(in_dir):\n",
    "    if \".txt\" in file:\n",
    "        print(file)\n",
    "        ogyn_id = re.findall(r'\\d+', file)[0]\n",
    "        with open(in_dir/file,'r') as f:\n",
    "            ogyn_text = f.read()\n",
    "            date = hp.ules_datum(ogyn_text)\n",
    "            year, month, day = date.split()\n",
    "            str_date = year[:-1] + \"/\" + str(date_dict[text[0][1].split()[1]]) + \"/\" + day[:-1]\n",
    "            cur.execute(f\"INSERT INTO ogyn VALUES(?,?,?,?)\",\n",
    "                        (ogyn_id,\n",
    "                         str_date,\n",
    "                         file,\n",
    "                         ogyn_text))\n",
    "            con.commit()"
   ]
  },
  {
   "cell_type": "code",
   "execution_count": 11,
   "id": "dfda0163",
   "metadata": {},
   "outputs": [
    {
     "data": {
      "text/plain": [
       "<_io.TextIOWrapper name='/home/xn/Script/Streamlit/text/Országgyűlési Napló 166.szám.txt' mode='r' encoding='UTF-8'>"
      ]
     },
     "execution_count": 11,
     "metadata": {},
     "output_type": "execute_result"
    }
   ],
   "source": [
    "f"
   ]
  },
  {
   "cell_type": "code",
   "execution_count": 3,
   "id": "1593bacc",
   "metadata": {},
   "outputs": [
    {
     "name": "stdout",
     "output_type": "stream",
     "text": [
      "2020. november 5.\n"
     ]
    }
   ],
   "source": [
    "res = cur.execute(\"select * from ogyn where id =163\")\n",
    "text = res.fetchall()\n",
    "print(text[0][1])\n",
    "\n",
    "cleaned = hp.ogy_n_tisztazo(text[0][3])\n",
    "kepviselo_lista = hp.kepviselo_lista(cleaned)\n",
    "kepviseloi_felszolalas_szotar = hp.kepviseloi_felszolalas_szotar(cleaned,kepviselo_lista)\n",
    "def elnok_lista(text: str)->list:\n",
    "    chairman_pattern = re.compile(\"Napló([\\s\\S]*?)elnöklete alatt\")\n",
    "    chairman_list = re.findall(chairman_pattern, text)\n",
    "    chairman_list = chairman_list[0].split(\"és\")\n",
    "    chairman_list = [i.strip().replace(\"\\n\",\"\") for i in chairman_list]\n",
    "    return chairman_list\n",
    "\n",
    "def jegyzo_lista(text: str)->list:\n",
    "    notary_pattern = re.compile(\"Jegyzők:([\\s\\S]*?)\\n\\n\")\n",
    "    notary_list = re.findall(notary_pattern, text)\n",
    "    notary_list = notary_list[0].replace(\"  \", \"\")\\\n",
    "    .replace(\" \\x0c\", \"\").split(\",\")\n",
    "    notary_list = [i.strip().replace(\"\\n\",\"\") for i in notary_list]\n",
    "    return notary_list"
   ]
  },
  {
   "cell_type": "code",
   "execution_count": 5,
   "id": "2ddea6da",
   "metadata": {},
   "outputs": [],
   "source": [
    "kepviselo_lista = hp.kepviselo_lista(cleaned)\n",
    "kepviseloi_felszolalas_szotar = hp.kepviseloi_felszolalas_szotar(cleaned,kepviselo_lista)"
   ]
  },
  {
   "cell_type": "code",
   "execution_count": 6,
   "id": "e51177ee",
   "metadata": {},
   "outputs": [],
   "source": [
    "bev = hp.bevezeto_resz(text[0][3])"
   ]
  },
  {
   "cell_type": "code",
   "execution_count": 19,
   "id": "de113fa2",
   "metadata": {},
   "outputs": [
    {
     "data": {
      "text/plain": [
       "'   2018-2022 országgyűlési ciklus Budapest, 2020 november 5 csütörtök \\n\\n163 szám \\n\\n \\n\\n \\n \\n \\n \\n\\n \\n\\nOrszággyűlési Napló \\n\\nDr Hiller István, Jakab István és Lezsák Sándor  \\n\\nelnöklete alatt \\n\\n \\n\\nJegyzők: dr Aradszki András, Tordai Bence \\n\\n \\n\\n \\n \\n \\n \\n\\n \\n \\n \\n \\n \\n \\n \\n \\n \\n \\n \\n \\n \\n\\n \\n \\n \\n \\n \\n \\n \\n \\n\\n\\x0cHasáb \\n\\nTárgyai   \\n \\nAz ülésnap megnyitása   \\n \\nEgyes törvényeknek az otthonteremtési akcióterv bevezetése érdekében szükséges \\nmódosításáról szóló törvényjavaslat általános vitája a lezárásig   \\nNovák Katalin tárca nélküli miniszter, a napirendi pont előadója   \\nFelszólalók: \\nDunai Mónika, a Fidesz képviselőcsoportja részéről   \\n \\n \\nZ Kárpát Dániel, a Jobbik képviselőcsoportja részéről   \\n  Hollik István, a KDNP képviselőcsoportja részéről   \\nDr Gurmai Zita, az MSZP képviselőcsoportja részéről   \\n \\nVarju László, a DK képviselőcsoportja részéről   \\n \\n \\nCsárdi Antal, az LMP képviselőcsoportja részéről   \\nZ Kárpát Dániel (Jobbik)   \\n \\nVarga Zoltán (DK)   \\n \\nNacsa Lőrinc (KDNP)   \\n \\n \\nTordai Bence (Párbeszéd)   \\nVarga Zoltán (DK)   \\n \\nZ Kárpát Dániel (Jobbik)   \\n \\n \\nCsárdi Antal (LMP)   \\n  Héjj Dávid Ádám (Fidesz)   \\n \\nVarju László (DK)   \\nNacsa Lőrinc (KDNP)   \\n \\nDr Varga-Damm Andrea (független)   \\n \\n \\nZ Kárpát Dániel (Jobbik)   \\n  Hollik István (KDNP)   \\n \\nDr Varga-Damm Andrea (független)   \\n  Héjj Dávid Ádám (Fidesz)  \\n \\nDr Varga-Damm Andrea (független)   \\nZsigó Róbert, a Miniszterelnökség államtitkárának előterjesztői válasza   \\n \\nA Kormányzati Személyügyi Döntéstámogató Rendszerről szóló törvényjavaslat általá-\\nnos vitája a lezárásig   \\nKontrát Károly belügyminisztériumi államtitkár, a napirendi pont előadója   \\nFelszólalók: \\n  Héjj Dávid Ádám, a Fidesz képviselőcsoportja részéről   \\nDr Gyüre Csaba, a Jobbik képviselőcsoportja részéről   \\n \\n \\nNacsa Lőrinc, a KDNP képviselőcsoportja részéről   \\n  Molnár Gyula, az MSZP képviselőcsoportja részéről   \\nVarga Zoltán, a DK képviselőcsoportja részéről   \\n \\n \\nDr Keresztes László Lóránt, az LMP képviselőcsoportja részéről   \\nKontrát Károly belügyminisztériumi államtitkár előadói válasza   \\n \\nA területfejlesztésről és a területrendezésről szóló 1996 évi XXI törvény módosítá-\\nsáról szóló törvényjavaslat általános vitája a lezárásig   \\nDr György István, a Miniszterelnökség államtitkára, a napirendi pont előadója   \\nFelszólalók: \\n \\n \\n \\n \\n \\n \\n \\n \\n \\n \\n \\n \\n \\n \\n\\nBartos Mónika, a Fidesz képviselőcsoportja részéről   \\nPotocskáné Kőrösi Anita, a Jobbik képviselőcsoportja részéről   \\nNacsa Lőrinc, a KDNP képviselőcsoportja részéről   \\nTóth Csaba, az MSZP képviselőcsoportja részéről   \\nVarga Zoltán, a DK képviselőcsoportja részéről   \\nDr Keresztes László Lóránt, az LMP képviselőcsoportja részéről   \\nPotocskáné Kőrösi Anita (Jobbik)   \\nNacsa Lőrinc (KDNP)   \\nDr Keresztes László Lóránt (LMP)   \\nVarga Zoltán (DK)  \\nBöröcz László (Fidesz)   \\nSzilágyi György (Jobbik)  \\nPotocskáné Kőrösi Anita (Jobbik)   \\nDr Keresztes László Lóránt (LMP)   \\n\\n\\x0cBöröcz László (Fidesz)   \\n \\nPotocskáné Kőrösi Anita (Jobbik)   \\n \\nNacsa Lőrinc (KDNP)   \\n \\nSzilágyi György (Jobbik)   \\n \\nDr Keresztes László Lóránt (LMP)   \\n \\nBöröcz László (Fidesz)   \\n \\nNacsa Lőrinc (KDNP)   \\n \\n \\nPotocskáné Kőrösi Anita (Jobbik)   \\nDr György István, a Miniszterelnökség államtitkárának előadói válasza   \\n \\nA közbeszerzésekről szóló 2015 évi CXLIII törvény és egyes kapcsolódó törvények \\nmódosításáról szóló törvényjavaslat általános vitája a lezárásig   \\nDr Orbán Balázs, a Miniszterelnökség államtitkára, a napirendi pont előadója   \\nFelszólalók: \\nBöröcz László, a Fidesz képviselőcsoportja részéről   \\n \\nPotocskáné Kőrösi Anita, a Jobbik képviselőcsoportja részéről   \\n \\nDr Aradszki András, a KDNP képviselőcsoportja részéről   \\n \\nTóth Csaba, az MSZP képviselőcsoportja részéről   \\n \\nVarga Zoltán, a DK képviselőcsoportja részéről   \\n \\nDr Keresztes László Lóránt, az LMP képviselőcsoportja részéről   \\n \\n \\nDr Varga-Damm Andrea (független)   \\nDr Orbán Balázs, a Miniszterelnökség államtitkárának előadói válasza   \\n \\nAz ülésnap bezárása   \\n \\n \\n \\n \\n \\n \\n \\n \\n \\n \\n \\n \\n \\n \\n \\n \\n \\n \\n \\n \\n \\n \\n \\n \\n \\n \\n \\n \\n \\n \\n \\n \\nAz ülésen jelen voltak: \\n \\nDR GYÖRGY ISTVÁN, a Miniszterelnökség államtitkára, DR ORBÁN BALÁZS államtitkár, ZSIGÓ RÓBERT \\nállamtitkár, KONTRÁT KÁROLY belügyminisztériumi államtitkár, NOVÁK KATALIN tárca nélküli miniszter \\n\\n\\x0c \\n\\nAz Országgyűlés őszi ülésszakának 14 ülésnapja 2020 november 5-én, csütörtökön \\n\\n \\n\\nAz Országgyűlés őszi ülésszakának \\n\\n14 ülésnapja \\n\\n2020 november 5-én, csütörtökön \\n(900 óra - Elnök: Lezsák Sándor \\n\\nJegyzők: dr Aradszki András és Tordai Bence) \\n \\n'"
      ]
     },
     "execution_count": 19,
     "metadata": {},
     "output_type": "execute_result"
    }
   ],
   "source": [
    "bev = bev.replace(\".\",\"\")\n",
    "page_number_pat = re.compile(r'\\d{5}')\n",
    "re.sub(page_number_pat, '', bev)"
   ]
  },
  {
   "cell_type": "code",
   "execution_count": 13,
   "id": "97687b74",
   "metadata": {},
   "outputs": [],
   "source": []
  },
  {
   "cell_type": "code",
   "execution_count": 14,
   "id": "504f5714",
   "metadata": {},
   "outputs": [
    {
     "data": {
      "text/plain": [
       "'   2018-2022 országgyűlési ciklus Budapest, 2020 november 5 csütörtök \\n\\n163 szám \\n\\n \\n\\n \\n \\n \\n \\n\\n \\n\\nOrszággyűlési Napló \\n\\nDr Hiller István, Jakab István és Lezsák Sándor  \\n\\nelnöklete alatt \\n\\n \\n\\nJegyzők: dr Aradszki András, Tordai Bence \\n\\n \\n\\n \\n \\n \\n \\n\\n \\n \\n \\n \\n \\n \\n \\n \\n \\n \\n \\n \\n \\n\\n \\n \\n \\n \\n \\n \\n \\n \\n\\n\\x0cHasáb \\n\\nTárgyai   \\n \\nAz ülésnap megnyitása  22893 \\n \\nEgyes törvényeknek az otthonteremtési akcióterv bevezetése érdekében szükséges \\nmódosításáról szóló törvényjavaslat általános vitája a lezárásig  22893 \\nNovák Katalin tárca nélküli miniszter, a napirendi pont előadója  22893 \\nFelszólalók: \\nDunai Mónika, a Fidesz képviselőcsoportja részéről  22897 \\n \\n \\nZ Kárpát Dániel, a Jobbik képviselőcsoportja részéről  22901 \\n  Hollik István, a KDNP képviselőcsoportja részéről  22906 \\nDr Gurmai Zita, az MSZP képviselőcsoportja részéről  22911 \\n \\nVarju László, a DK képviselőcsoportja részéről  22913 \\n \\n \\nCsárdi Antal, az LMP képviselőcsoportja részéről  22917 \\nZ Kárpát Dániel (Jobbik)  22920 \\n \\nVarga Zoltán (DK)  22921 \\n \\nNacsa Lőrinc (KDNP)  22922 \\n \\n \\nTordai Bence (Párbeszéd)  22927 \\nVarga Zoltán (DK)  22930 \\n \\nZ Kárpát Dániel (Jobbik)  22932 \\n \\n \\nCsárdi Antal (LMP)  22937 \\n  Héjj Dávid Ádám (Fidesz)  22941 \\n \\nVarju László (DK)  22941 \\nNacsa Lőrinc (KDNP)  22942 \\n \\nDr Varga-Damm Andrea (független)  22943 \\n \\n \\nZ Kárpát Dániel (Jobbik)  22944 \\n  Hollik István (KDNP)  22944 \\n \\nDr Varga-Damm Andrea (független)  22947 \\n  Héjj Dávid Ádám (Fidesz) 22951 \\n \\nDr Varga-Damm Andrea (független)  22952 \\nZsigó Róbert, a Miniszterelnökség államtitkárának előterjesztői válasza  22952 \\n \\nA Kormányzati Személyügyi Döntéstámogató Rendszerről szóló törvényjavaslat általá-\\nnos vitája a lezárásig  22958 \\nKontrát Károly belügyminisztériumi államtitkár, a napirendi pont előadója  22958 \\nFelszólalók: \\n  Héjj Dávid Ádám, a Fidesz képviselőcsoportja részéről  22961 \\nDr Gyüre Csaba, a Jobbik képviselőcsoportja részéről  22964 \\n \\n \\nNacsa Lőrinc, a KDNP képviselőcsoportja részéről  22966 \\n  Molnár Gyula, az MSZP képviselőcsoportja részéről  22968 \\nVarga Zoltán, a DK képviselőcsoportja részéről  22970 \\n \\n \\nDr Keresztes László Lóránt, az LMP képviselőcsoportja részéről  22973 \\nKontrát Károly belügyminisztériumi államtitkár előadói válasza  22976 \\n \\nA területfejlesztésről és a területrendezésről szóló 1996 évi XXI törvény módosítá-\\nsáról szóló törvényjavaslat általános vitája a lezárásig  22978 \\nDr György István, a Miniszterelnökség államtitkára, a napirendi pont előadója  22978 \\nFelszólalók: \\n \\n \\n \\n \\n \\n \\n \\n \\n \\n \\n \\n \\n \\n \\n\\nBartos Mónika, a Fidesz képviselőcsoportja részéről  22981 \\nPotocskáné Kőrösi Anita, a Jobbik képviselőcsoportja részéről  22984 \\nNacsa Lőrinc, a KDNP képviselőcsoportja részéről  22986 \\nTóth Csaba, az MSZP képviselőcsoportja részéről  22988 \\nVarga Zoltán, a DK képviselőcsoportja részéről  22989 \\nDr Keresztes László Lóránt, az LMP képviselőcsoportja részéről  22991 \\nPotocskáné Kőrösi Anita (Jobbik)  22997 \\nNacsa Lőrinc (KDNP)  22998 \\nDr Keresztes László Lóránt (LMP)  23001 \\nVarga Zoltán (DK) 23004 \\nBöröcz László (Fidesz)  23005 \\nSzilágyi György (Jobbik) 23006 \\nPotocskáné Kőrösi Anita (Jobbik)  23008 \\nDr Keresztes László Lóránt (LMP)  23010 \\n\\n\\x0cBöröcz László (Fidesz)  23011 \\n \\nPotocskáné Kőrösi Anita (Jobbik)  23011 \\n \\nNacsa Lőrinc (KDNP)  23012 \\n \\nSzilágyi György (Jobbik)  23013 \\n \\nDr Keresztes László Lóránt (LMP)  23014 \\n \\nBöröcz László (Fidesz)  23014 \\n \\nNacsa Lőrinc (KDNP)  23015 \\n \\n \\nPotocskáné Kőrösi Anita (Jobbik)  23015 \\nDr György István, a Miniszterelnökség államtitkárának előadói válasza  23016 \\n \\nA közbeszerzésekről szóló 2015 évi CXLIII törvény és egyes kapcsolódó törvények \\nmódosításáról szóló törvényjavaslat általános vitája a lezárásig  23020 \\nDr Orbán Balázs, a Miniszterelnökség államtitkára, a napirendi pont előadója  23020 \\nFelszólalók: \\nBöröcz László, a Fidesz képviselőcsoportja részéről  23023 \\n \\nPotocskáné Kőrösi Anita, a Jobbik képviselőcsoportja részéről  23024 \\n \\nDr Aradszki András, a KDNP képviselőcsoportja részéről  23025 \\n \\nTóth Csaba, az MSZP képviselőcsoportja részéről  23028 \\n \\nVarga Zoltán, a DK képviselőcsoportja részéről  23030 \\n \\nDr Keresztes László Lóránt, az LMP képviselőcsoportja részéről  23034 \\n \\n \\nDr Varga-Damm Andrea (független)  23035 \\nDr Orbán Balázs, a Miniszterelnökség államtitkárának előadói válasza  23039 \\n \\nAz ülésnap bezárása  23044 \\n \\n \\n \\n \\n \\n \\n \\n \\n \\n \\n \\n \\n \\n \\n \\n \\n \\n \\n \\n \\n \\n \\n \\n \\n \\n \\n \\n \\n \\n \\n \\n \\nAz ülésen jelen voltak: \\n \\nDR GYÖRGY ISTVÁN, a Miniszterelnökség államtitkára, DR ORBÁN BALÁZS államtitkár, ZSIGÓ RÓBERT \\nállamtitkár, KONTRÁT KÁROLY belügyminisztériumi államtitkár, NOVÁK KATALIN tárca nélküli miniszter  \\n\\nAz Országgyűlés őszi ülésszakának 14 ülésnapja 2020 november 5-én, csütörtökön  \\n\\nAz Országgyűlés őszi ülésszakának \\n\\n14 ülésnapja \\n\\n2020 november 5-én, csütörtökön \\n(900 óra - Elnök: Lezsák Sándor \\n\\nJegyzők: dr Aradszki András és Tordai Bence) \\n \\n'"
      ]
     },
     "execution_count": 14,
     "metadata": {},
     "output_type": "execute_result"
    }
   ],
   "source": [
    "cleaned_text"
   ]
  },
  {
   "cell_type": "code",
   "execution_count": 119,
   "id": "ea4f8d61",
   "metadata": {},
   "outputs": [
    {
     "data": {
      "text/plain": [
       "{'ARATÓ GERGELY': [['(Közbeszólás a kormánypárti padsorokból: Miért ordítasz?)',\n",
       "   '(Közbeszólás a kormánypárti padsorokból.)',\n",
       "   '(Németh Szilárd István: Akkor ülj  le!)',\n",
       "   '(Az elnök a csengő megkocogtatásával jelzi az idő leteltét.)',\n",
       "   '(Taps az ellenzéki pártok  soraiban.)'],\n",
       "  ['(Kocsis Máté: Ne hazudj!)', '(Taps az ellenzéki oldalon.)']],\n",
       " 'BANA TIBOR': [],\n",
       " 'BENCSIK JÁNOS': [],\n",
       " 'DR. FÓNAGY JÁNOS': [],\n",
       " 'DR. KERESZTES LÁSZLÓ LÓRÁNT': [['(Taps az ellenzéki sorokból.)'],\n",
       "  ['(Kocsis Máté közbeszól.)',\n",
       "   '(Hollik István és Nacsa Lőrinc közbeszól.)',\n",
       "   '(Korózs Lajos bólogat.)',\n",
       "   '(Közbeszólások a kormánypárti padsorokból.)',\n",
       "   '(Taps a Párbeszéd padsoraiból.)'],\n",
       "  ['(Taps az ellenzéki  pártok soraiban.)'],\n",
       "  ['(Taps a Jobbik padsoraiból.)']],\n",
       " 'DR. LUKÁCS LÁSZLÓ GYÖRGY': [['(Taps a Jobbik padsoraiban.)'],\n",
       "  ['(Kocsis Máté az ellenzék felé mutat.)', '(Taps a Jobbik padsoraiban.)']],\n",
       " 'DR. MELLÁR TAMÁS': [],\n",
       " 'DR. NAGY ISTVÁN': [],\n",
       " 'DR. ORBÁN': [['(Németh Szilárd István: Meg a gyógyszer is elgurult.)',\n",
       "   '(Arató Gergely közbeszól.)',\n",
       "   '(Taps a kormánypártok padsoraiból.)']],\n",
       " 'DR. ORBÁN BALÁZS': [],\n",
       " 'DR. RÉTVÁRI BENCE': [['(Az elnök a  csengő megkocogtatásával jelzi az időkeret leteltét.)',\n",
       "   '(Taps a kormánypárti padsorokban.)'],\n",
       "  ['(Dr. Lukács László  György közbeszól.)',\n",
       "   '(Taps a kormánypártok soraiból.)']],\n",
       " 'DR. SEMJÉN ZSOLT': [],\n",
       " 'DR. SIMICSKÓ ISTVÁN': [],\n",
       " 'DR. STEINMETZ ÁDÁM': [],\n",
       " 'DR. TÓTH BERTALAN': [],\n",
       " 'DR. VARGA JUDIT': [['(Taps a kormánypártok soraiban.)'],\n",
       "  ['(Moraj az ellenzék padsoraiban.)', '(Taps a kormánypárti padsorokban.)']],\n",
       " 'DR. VARGA-DAMM ANDREA': [],\n",
       " 'DR. VEJKEY IMRE': [],\n",
       " 'DR. VÖLNER PÁL': [],\n",
       " 'DÖMÖTÖR CSABA': [['(Szabó Timea közbeszól.)',\n",
       "   '(Szabó Timea: Benne van? Nem javasoltunk ilyet! - Az elnök csenget.)',\n",
       "   '(Szabó Timea: Miért  nem tettetek feljelentést?)',\n",
       "   '(Szabó Timea: Miért nem tettetek feljelentést?)',\n",
       "   '(Szabó Timea: Hazudtok éjjel-nappal…)'],\n",
       "  ['(Szabó Timea: Én? Ön hazudott!)',\n",
       "   '(Szabó Timea: Mészáros Lőrincnél!)',\n",
       "   '(Szabó  Timea közbeszól.)',\n",
       "   '(Taps a kormánypártok soraiban.)']],\n",
       " 'FARKAS SÁNDOR': [],\n",
       " 'GULYÁS GERGELY M': [],\n",
       " 'HENDE CSABA': [],\n",
       " 'HISZÉKENY DEZSŐ': [],\n",
       " 'HOLLIK ISTVÁN': [],\n",
       " 'KOCSIS MÁTÉ': [['(Közbeszólás a Fidesz padsoraiból: Úgy van!)',\n",
       "   '(Közbeszólás a Fidesz padsoraiból: Szégyen!)',\n",
       "   '(Közbeszólások a Fidesz padsoraiból: Szégyen!)',\n",
       "   '(Zaj és közbeszólások az ellenzéki pártok padsoraiból.)',\n",
       "   '(Nagy taps a kormánypártok soraiban.)'],\n",
       "  ['(Közbeszólás a kormánypártok soraiból: Így van!  Így van! - Taps ugyanott.)',\n",
       "   '(Taps a  kormánypártok padsoraiból.)'],\n",
       "  ['(Közbeszólás a kormánypártok soraiból: Szégyelld magad!)',\n",
       "   '(Közbeszólások a kormánypártok soraiból, köztük: Úgy van! - Taps a kormánypártok soraiban.)']],\n",
       " 'KONTRÁT KÁROLY': [],\n",
       " 'KORÓZS LAJOS': [['(A kormánypárti képviselők - Kocsis Máté kivételével - elhagyják az üléstermet.)',\n",
       "   '(Taps az MSZP és a Jobbik soraiból.)']],\n",
       " 'KÁLLÓ GERGELY': [],\n",
       " 'MENCZER TAMÁS': [],\n",
       " 'MINDEN JOG FENNTARTVA': [],\n",
       " 'MÁTRAI MÁRTA': [],\n",
       " 'NACSA LŐRINC': [],\n",
       " 'NOVÁK KATALIN': [],\n",
       " 'NÉMETH SZILÁRD ISTVÁN': [],\n",
       " 'ORBÁN VIKTOR': [],\n",
       " 'RIG LAJOS': [],\n",
       " 'RITTER IMRE': [],\n",
       " 'ROGÁN ANTAL': [],\n",
       " 'SCHANDA TAMÁS JÁNOS': [['(Dr. Keresztes László  Lóránt: Én?)',\n",
       "   '(Arató Gergely közbeszól.)',\n",
       "   '(Dr. Keresztes László Lóránt: Mészáros Lőrinc?)',\n",
       "   '(Az elnök a csengő megkocogtatásával  jelzi az idő leteltét.)',\n",
       "   '(Taps a kormánypártok soraiban.)'],\n",
       "  ['(Taps a  kormánypártok soraiban.)']],\n",
       " 'SOLTÉSZ MIKLÓS': [['(Dr. Vadai Ágnes közbeszól.)',\n",
       "   '(Taps a kormánypártok padsoraiból.)']],\n",
       " 'SZABÓ TIMEA': [],\n",
       " 'SZILÁGYI GYÖRGY': [],\n",
       " 'SZÁSZFALVI LÁSZLÓ': [],\n",
       " 'SZÉKELY SÁNDOR': [['(független)'],\n",
       "  ['(független)', '(Nacsa Lőrinc: Sajnos?)']],\n",
       " 'SÜLI JÁNOS': [],\n",
       " 'TORDAI BENCE': [],\n",
       " 'TÁLLAI ANDRÁS': [],\n",
       " 'VARGA MIHÁLY': [],\n",
       " 'VOLNER JÁNOS': [],\n",
       " 'Z. KÁRPÁT DÁNIEL': [],\n",
       " 'ZSIGÓ RÓBERT': [['(Taps a kormánypártok padsoraiból.)']]}"
      ]
     },
     "execution_count": 119,
     "metadata": {},
     "output_type": "execute_result"
    }
   ],
   "source": [
    "reakcio_szotar = hp.reakcio_szotar(kepviseloi_felszolalas_szotar)\n",
    "reakcio_szotar"
   ]
  },
  {
   "cell_type": "code",
   "execution_count": 137,
   "id": "2d4c5e2e",
   "metadata": {},
   "outputs": [],
   "source": [
    "filtered_dict = {k: v for k, v in reakcio_szotar.items() if len(v) != 0}\n",
    "filtered_dict.keys()"
   ]
  },
  {
   "cell_type": "code",
   "execution_count": 138,
   "id": "607c4025",
   "metadata": {},
   "outputs": [
    {
     "data": {
      "text/plain": [
       "dict_keys(['ARATÓ GERGELY', 'DR. KERESZTES LÁSZLÓ LÓRÁNT', 'DR. LUKÁCS LÁSZLÓ GYÖRGY', 'DR. ORBÁN', 'DR. RÉTVÁRI BENCE', 'DR. VARGA JUDIT', 'DÖMÖTÖR CSABA', 'KOCSIS MÁTÉ', 'KORÓZS LAJOS', 'SCHANDA TAMÁS JÁNOS', 'SOLTÉSZ MIKLÓS', 'SZÉKELY SÁNDOR', 'ZSIGÓ RÓBERT'])"
      ]
     },
     "execution_count": 138,
     "metadata": {},
     "output_type": "execute_result"
    }
   ],
   "source": []
  }
 ],
 "metadata": {
  "kernelspec": {
   "display_name": "Python 3 (ipykernel)",
   "language": "python",
   "name": "python3"
  },
  "language_info": {
   "codemirror_mode": {
    "name": "ipython",
    "version": 3
   },
   "file_extension": ".py",
   "mimetype": "text/x-python",
   "name": "python",
   "nbconvert_exporter": "python",
   "pygments_lexer": "ipython3",
   "version": "3.10.12"
  }
 },
 "nbformat": 4,
 "nbformat_minor": 5
}
