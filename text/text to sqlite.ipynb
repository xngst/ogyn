{
 "cells": [
  {
   "cell_type": "code",
   "execution_count": 2,
   "id": "3b9de8d8",
   "metadata": {},
   "outputs": [
    {
     "ename": "ModuleNotFoundError",
     "evalue": "No module named 'hunparl'",
     "output_type": "error",
     "traceback": [
      "\u001b[0;31m---------------------------------------------------------------------------\u001b[0m",
      "\u001b[0;31mModuleNotFoundError\u001b[0m                       Traceback (most recent call last)",
      "Input \u001b[0;32mIn [2]\u001b[0m, in \u001b[0;36m<cell line: 5>\u001b[0;34m()\u001b[0m\n\u001b[1;32m      3\u001b[0m \u001b[38;5;28;01mimport\u001b[39;00m \u001b[38;5;21;01msqlite3\u001b[39;00m\n\u001b[1;32m      4\u001b[0m \u001b[38;5;28;01mfrom\u001b[39;00m \u001b[38;5;21;01mpathlib\u001b[39;00m \u001b[38;5;28;01mimport\u001b[39;00m Path\n\u001b[0;32m----> 5\u001b[0m \u001b[38;5;28;01mimport\u001b[39;00m \u001b[38;5;21;01mhunparl\u001b[39;00m \u001b[38;5;28;01mas\u001b[39;00m \u001b[38;5;21;01mhp\u001b[39;00m\n",
      "\u001b[0;31mModuleNotFoundError\u001b[0m: No module named 'hunparl'"
     ]
    }
   ],
   "source": [
    "import re\n",
    "import os\n",
    "import sqlite3\n",
    "from pathlib import Path\n",
    "import hunparl as hp"
   ]
  },
  {
   "cell_type": "code",
   "execution_count": null,
   "id": "5469c89f",
   "metadata": {},
   "outputs": [],
   "source": [
    "in_dir = Path(\"/home/xn/Script/Streamlit/text\")\n",
    "\n",
    "con = sqlite3.connect(in_dir/\"ogyn.db\")\n",
    "cur = con.cursor()\n",
    "cur.execute(\"\"\"DROP TABLE ogyn\"\"\")\n",
    "\n",
    "cur.execute(\"\"\"CREATE TABLE ogyn(\n",
    "            id INTEGER NOT NULL PRIMARY KEY,\n",
    "            date TEXT,\n",
    "            name TEXT,\n",
    "            full_text TEXT)\n",
    "            \"\"\")\n",
    "con.commit()"
   ]
  },
  {
   "cell_type": "code",
   "execution_count": 63,
   "id": "8549afce",
   "metadata": {},
   "outputs": [],
   "source": [
    "for file in os.listdir(in_dir):\n",
    "    if \".txt\" in file:\n",
    "        ogyn_id = re.findall(r'\\d+', file)[0]\n",
    "        with open(file) as f:\n",
    "            ogyn_text = f.read()\n",
    "            cur.execute(f\"INSERT INTO ogyn VALUES(?,?,?)\",(ogyn_id,file,ogyn_text))\n",
    "            con.commit()"
   ]
  },
  {
   "cell_type": "code",
   "execution_count": null,
   "id": "53cc0799",
   "metadata": {},
   "outputs": [],
   "source": [
    "for file in os.listdir(in_dir):\n",
    "    if \".txt\" in file:\n",
    "        ogyn_id = re.findall(r'\\d+', file)[0]\n",
    "        with open(file) as f:\n",
    "            "
   ]
  },
  {
   "cell_type": "code",
   "execution_count": 68,
   "id": "1593bacc",
   "metadata": {},
   "outputs": [],
   "source": [
    "res = cur.execute(\"select * from ogyn where id = 163\")\n",
    "text = res.fetchall()"
   ]
  },
  {
   "cell_type": "code",
   "execution_count": 76,
   "id": "d3c8cc6c",
   "metadata": {},
   "outputs": [
    {
     "data": {
      "text/plain": [
       "['Országgyűlési Napló 162.szám.txt',\n",
       " 'Országgyűlési Napló 163.szám.txt',\n",
       " 'Országgyűlési Napló 164.szám.txt',\n",
       " 'Országgyűlési Napló 165.szám.txt',\n",
       " 'Országgyűlési Napló 166.szám.txt']"
      ]
     },
     "execution_count": 76,
     "metadata": {},
     "output_type": "execute_result"
    }
   ],
   "source": [
    "res = cur.execute(\"select name from ogyn\")\n",
    "[str(i[0]) for i in res.fetchall()]"
   ]
  },
  {
   "cell_type": "code",
   "execution_count": 75,
   "id": "486921ea",
   "metadata": {},
   "outputs": [
    {
     "data": {
      "text/plain": [
       "['162', '163', '164', '165', '166']"
      ]
     },
     "execution_count": 75,
     "metadata": {},
     "output_type": "execute_result"
    }
   ],
   "source": []
  }
 ],
 "metadata": {
  "kernelspec": {
   "display_name": "Python 3 (ipykernel)",
   "language": "python",
   "name": "python3"
  },
  "language_info": {
   "codemirror_mode": {
    "name": "ipython",
    "version": 3
   },
   "file_extension": ".py",
   "mimetype": "text/x-python",
   "name": "python",
   "nbconvert_exporter": "python",
   "pygments_lexer": "ipython3",
   "version": "3.10.12"
  }
 },
 "nbformat": 4,
 "nbformat_minor": 5
}
