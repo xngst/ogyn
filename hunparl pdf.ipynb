{
 "cells": [
  {
   "cell_type": "code",
   "execution_count": 18,
   "id": "f182f092",
   "metadata": {},
   "outputs": [],
   "source": [
    "import os\n",
    "import hunparl as hp\n",
    "from pathlib import Path\n",
    "in_dir = Path(\"raw_pdf\")\n",
    "out_dir = Path(\"text\")"
   ]
  },
  {
   "cell_type": "code",
   "execution_count": 22,
   "id": "2788f0b1",
   "metadata": {},
   "outputs": [
    {
     "name": "stdout",
     "output_type": "stream",
     "text": [
      "Országgyűlési Napló 165.szám.pdf\n",
      "Országgyűlési Napló 171.szám.pdf\n",
      "Országgyűlési Napló 166.szám.pdf\n",
      "Országgyűlési Napló 168.szám.pdf\n",
      "Országgyűlési Napló 174.szám.pdf\n",
      "Országgyűlési Napló 169.szám.pdf\n",
      "Országgyűlési Napló 178.szám.pdf\n",
      "Országgyűlési Napló 173.szám.pdf\n",
      "Országgyűlési Napló 170.szám.pdf\n",
      "Országgyűlési Napló 172.szám.pdf\n",
      "Országgyűlési Napló 176.szám.pdf\n",
      "Országgyűlési Napló 175.szám.pdf\n",
      "Országgyűlési Napló 162.szám.pdf\n",
      "Országgyűlési Napló 163.szám.pdf\n",
      "Országgyűlési Napló 177.szám.pdf\n",
      "Országgyűlési Napló 167.szám.pdf\n",
      "Országgyűlési Napló 164.szám.pdf\n"
     ]
    }
   ],
   "source": [
    "for file in os.listdir(in_dir):\n",
    "    print(file)\n",
    "    text = hp.pdf_to_txt(in_dir/file)\n",
    "    with open(out_dir/file.replace(\"pdf\",\"txt\"),'w') as f:\n",
    "        f.write(text)"
   ]
  },
  {
   "cell_type": "code",
   "execution_count": 23,
   "id": "980b2270",
   "metadata": {},
   "outputs": [
    {
     "data": {
      "text/plain": [
       "'2020. november 9.'"
      ]
     },
     "execution_count": 23,
     "metadata": {},
     "output_type": "execute_result"
    }
   ],
   "source": [
    "hp.ules_datum(text)"
   ]
  },
  {
   "cell_type": "code",
   "execution_count": null,
   "id": "c2cee98e",
   "metadata": {},
   "outputs": [],
   "source": []
  }
 ],
 "metadata": {
  "kernelspec": {
   "display_name": "Python 3 (ipykernel)",
   "language": "python",
   "name": "python3"
  },
  "language_info": {
   "codemirror_mode": {
    "name": "ipython",
    "version": 3
   },
   "file_extension": ".py",
   "mimetype": "text/x-python",
   "name": "python",
   "nbconvert_exporter": "python",
   "pygments_lexer": "ipython3",
   "version": "3.10.12"
  }
 },
 "nbformat": 4,
 "nbformat_minor": 5
}
